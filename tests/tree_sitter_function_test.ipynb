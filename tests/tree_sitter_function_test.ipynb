{
 "cells": [
  {
   "cell_type": "code",
   "execution_count": 1,
   "id": "92f45e83-f570-41d3-b6f3-ed6f751bd291",
   "metadata": {},
   "outputs": [],
   "source": [
    "import os\n",
    "from tree_sitter import Language, Parser\n",
    "from typing import List, Optional"
   ]
  },
  {
   "cell_type": "code",
   "execution_count": 5,
   "id": "860a8705-7b31-449d-b722-20616c9e2789",
   "metadata": {},
   "outputs": [],
   "source": [
    "def get_root_dir() -> str:\n",
    "    # Get the current working directory\n",
    "    current_dir = os.getcwd()\n",
    "    # Navigate one directory up\n",
    "    parent_dir = os.path.dirname(current_dir)\n",
    "    return parent_dir\n",
    "\n",
    "\n",
    "def get_builds_dir() -> str:\n",
    "    rootDir = get_root_dir()\n",
    "    return os.path.join(rootDir, \"parsers\", \"build\", \"my-languages.so\")\n",
    "\n",
    "def get_parsers_dir(parser_name) -> str:\n",
    "    rootDir = get_root_dir()\n",
    "    return os.path.join(rootDir, \"parsers\", \"vendors\", parser_name)"
   ]
  },
  {
   "cell_type": "code",
   "execution_count": 6,
   "id": "dcc899e1-93f7-4a07-a437-f5dc8ca1df77",
   "metadata": {},
   "outputs": [
    {
     "name": "stdout",
     "output_type": "stream",
     "text": [
      "/home/abd/Desktop/projects/astGraphGenerator/parsers/build/my-languages.so\n",
      "/home/abd/Desktop/projects/astGraphGenerator/parsers/vendors/tree-sitter-go\n"
     ]
    }
   ],
   "source": [
    "print(get_builds_dir())\n",
    "print(get_parsers_dir(\"tree-sitter-go\"))"
   ]
  },
  {
   "cell_type": "code",
   "execution_count": 9,
   "id": "30d0399e-1ecc-4b30-bf37-41b4099b1ff5",
   "metadata": {},
   "outputs": [
    {
     "data": {
      "text/plain": [
       "True"
      ]
     },
     "execution_count": 9,
     "metadata": {},
     "output_type": "execute_result"
    }
   ],
   "source": [
    "\n",
    "\n",
    "Language.build_library(\n",
    "    # Store the library in the `build` directory\n",
    "    get_builds_dir(),\n",
    "    # Include one or more languages\n",
    "    [get_parsers_dir(\"tree-sitter-go\"), \n",
    "     get_parsers_dir(\"tree-sitter-python\"),\n",
    "     get_parsers_dir(\"tree-sitter-bash\"), \n",
    "     get_parsers_dir(\"tree-sitter-json\"),\n",
    "     # get_parsers_dir(\"tree-sitter-yaml\")\n",
    "    ],\n",
    ")"
   ]
  },
  {
   "cell_type": "code",
   "execution_count": 11,
   "id": "5c659141-b634-4638-a025-0447ff070cbc",
   "metadata": {},
   "outputs": [
    {
     "name": "stderr",
     "output_type": "stream",
     "text": [
      "/home/abd/anaconda3/envs/shieldDev/lib/python3.10/site-packages/tree_sitter/__init__.py:36: FutureWarning: Language(path, name) is deprecated. Use Language(ptr, name) instead.\n",
      "  warn(\"{} is deprecated. Use {} instead.\".format(old, new), FutureWarning)\n"
     ]
    }
   ],
   "source": [
    "# GO_LANGUAGE = Language(\"build/my-languages.so\", \"go\")\n",
    "# JS_LANGUAGE = Language(\"build/my-languages.so\", \"javascript\")\n",
    "PY_LANGUAGE = Language(get_builds_dir(), \"python\")"
   ]
  },
  {
   "cell_type": "code",
   "execution_count": 12,
   "id": "7c2a4534-1265-4427-ad9e-45ecb940ddd2",
   "metadata": {},
   "outputs": [],
   "source": [
    "parser = Parser()\n",
    "parser.set_language(PY_LANGUAGE)"
   ]
  },
  {
   "cell_type": "code",
   "execution_count": 13,
   "id": "cafdb49f-64ca-4a49-88d3-d25efb85bc55",
   "metadata": {},
   "outputs": [],
   "source": [
    "tree = parser.parse(\n",
    "    bytes(\n",
    "        \"\"\"\n",
    "def foo():\n",
    "    if bar:\n",
    "        baz()\n",
    "\"\"\",\n",
    "        \"utf8\",\n",
    "    )\n",
    ")"
   ]
  },
  {
   "cell_type": "code",
   "execution_count": 14,
   "id": "0e72230c-a787-4236-bf8a-03aecaffd6fd",
   "metadata": {},
   "outputs": [
    {
     "data": {
      "text/plain": [
       "<tree_sitter.Tree at 0x7fd20431eb10>"
      ]
     },
     "execution_count": 14,
     "metadata": {},
     "output_type": "execute_result"
    }
   ],
   "source": [
    "tree"
   ]
  },
  {
   "cell_type": "code",
   "execution_count": 19,
   "id": "a5e32661-04b6-4583-a17e-25f9f7b7b71a",
   "metadata": {},
   "outputs": [
    {
     "name": "stdout",
     "output_type": "stream",
     "text": [
      "<Node type=module, start_point=(1, 0), end_point=(4, 0)>\n",
      "[<Node type=function_definition, start_point=(1, 0), end_point=(3, 13)>]\n"
     ]
    }
   ],
   "source": [
    "print(tree.root_node, tree.root_node.)\n",
    "print(tree.root_node.children)"
   ]
  },
  {
   "cell_type": "code",
   "execution_count": null,
   "id": "65b335dd-dbe7-4703-a05a-58937294b9dd",
   "metadata": {},
   "outputs": [],
   "source": []
  }
 ],
 "metadata": {
  "kernelspec": {
   "display_name": "Python 3 (ipykernel)",
   "language": "python",
   "name": "python3"
  },
  "language_info": {
   "codemirror_mode": {
    "name": "ipython",
    "version": 3
   },
   "file_extension": ".py",
   "mimetype": "text/x-python",
   "name": "python",
   "nbconvert_exporter": "python",
   "pygments_lexer": "ipython3",
   "version": "3.10.13"
  }
 },
 "nbformat": 4,
 "nbformat_minor": 5
}
